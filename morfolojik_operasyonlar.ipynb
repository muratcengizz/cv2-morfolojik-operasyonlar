{
 "cells": [
  {
   "cell_type": "code",
   "execution_count": 1,
   "id": "0f804780-1c73-466f-b30d-63c9d039d2c8",
   "metadata": {},
   "outputs": [],
   "source": [
    "import cv2\n",
    "import numpy as np"
   ]
  },
  {
   "cell_type": "code",
   "execution_count": 2,
   "id": "ea557488-4969-49de-abef-fa4423a9906d",
   "metadata": {},
   "outputs": [
    {
     "data": {
      "text/plain": [
       "(None, -1)"
      ]
     },
     "execution_count": 2,
     "metadata": {},
     "output_type": "execute_result"
    }
   ],
   "source": [
    "img = cv2.imread(filename='datai_team.jpg')\n",
    "cv2.imshow(winname='Datai Team', mat=img), cv2.waitKey(0)"
   ]
  },
  {
   "cell_type": "code",
   "execution_count": 3,
   "id": "a6d0fa47-497c-4754-a65f-7b787628f66c",
   "metadata": {},
   "outputs": [],
   "source": [
    "kernel = np.ones((5, 5), dtype=np.uint8)"
   ]
  },
  {
   "cell_type": "markdown",
   "id": "c2cc08be-e7b6-41ab-8a35-e1ef3a4bde42",
   "metadata": {},
   "source": [
    "![](erozyon.png)"
   ]
  },
  {
   "cell_type": "code",
   "execution_count": 4,
   "id": "61f7dfdf-a4da-41ce-aa05-27a0f70d2675",
   "metadata": {},
   "outputs": [
    {
     "data": {
      "text/plain": [
       "-1"
      ]
     },
     "execution_count": 4,
     "metadata": {},
     "output_type": "execute_result"
    }
   ],
   "source": [
    "erozyon = cv2.morphologyEx(src=img, op=cv2.MORPH_ERODE, kernel=kernel)\n",
    "\n",
    "cv2.imshow(winname='Orjinal', mat=img)\n",
    "cv2.imshow(winname='Erozyon', mat=erozyon)\n",
    "cv2.waitKey(0)"
   ]
  },
  {
   "cell_type": "markdown",
   "id": "da19ab5e-0952-4763-bd20-bebeea8fa1da",
   "metadata": {},
   "source": [
    "![](genisleme.png)"
   ]
  },
  {
   "cell_type": "code",
   "execution_count": 5,
   "id": "304920f3-ea17-48f4-b774-75d6d58345d3",
   "metadata": {},
   "outputs": [
    {
     "data": {
      "text/plain": [
       "-1"
      ]
     },
     "execution_count": 5,
     "metadata": {},
     "output_type": "execute_result"
    }
   ],
   "source": [
    "dilate = cv2.morphologyEx(src=img, op=cv2.MORPH_DILATE, kernel=kernel)\n",
    "\n",
    "cv2.imshow(winname='Orjinal', mat=img)\n",
    "cv2.imshow(winname='Genisleme', mat=dilate)\n",
    "cv2.waitKey(0)"
   ]
  },
  {
   "cell_type": "markdown",
   "id": "cd6f0fd5-9a8a-43bc-91a1-756a00ddaed0",
   "metadata": {},
   "source": [
    "![](acma.png)"
   ]
  },
  {
   "cell_type": "code",
   "execution_count": 10,
   "id": "9c66dae6-1c0d-44a1-9899-f06d4d3ae048",
   "metadata": {},
   "outputs": [
    {
     "data": {
      "text/plain": [
       "-1"
      ]
     },
     "execution_count": 10,
     "metadata": {},
     "output_type": "execute_result"
    }
   ],
   "source": [
    "# white noise\n",
    "whiteNoise = np.random.randint(0, 2, size=(img.shape[0], img.shape[1], 3))\n",
    "whiteNoise = whiteNoise * 255\n",
    "noise_img = img + whiteNoise\n",
    "noise_img = noise_img.astype(np.uint8)\n",
    "\n",
    "opening_image = cv2.morphologyEx(src=noise_img, op=cv2.MORPH_OPEN, kernel=kernel)\n",
    "\n",
    "\n",
    "cv2.imshow(winname='noisy image', mat=noise_img)\n",
    "cv2.imshow(winname='opening image', mat=opening_image)\n",
    "cv2.waitKey(0)"
   ]
  },
  {
   "cell_type": "code",
   "execution_count": null,
   "id": "3daf4720-db8c-425c-958a-a8d1c58d8d2e",
   "metadata": {},
   "outputs": [],
   "source": []
  },
  {
   "cell_type": "markdown",
   "id": "c7d69661-e8c8-4bfc-b9b1-dac0dab827e7",
   "metadata": {},
   "source": [
    "![](kapatma.png)"
   ]
  },
  {
   "cell_type": "code",
   "execution_count": 13,
   "id": "d2522af1-d942-43a7-8e2d-8e03c35bd419",
   "metadata": {},
   "outputs": [
    {
     "data": {
      "text/plain": [
       "-1"
      ]
     },
     "execution_count": 13,
     "metadata": {},
     "output_type": "execute_result"
    }
   ],
   "source": [
    "# black noise\n",
    "blackNoise = np.random.randint(0, 2, size=(img.shape[0], img.shape[1], 3))\n",
    "blackNoise = blackNoise + img\n",
    "blackNoise = blackNoise * -255\n",
    "blackNoise = blackNoise.astype(np.uint8)\n",
    "\n",
    "close_image = cv2.morphologyEx(src=blackNoise, op=cv2.MORPH_CLOSE, kernel=kernel)\n",
    "\n",
    "cv2.imshow(winname='orjinal', mat=blackNoise)\n",
    "cv2.imshow(winname='closed image', mat=close_image)\n",
    "cv2.waitKey(0)"
   ]
  },
  {
   "cell_type": "markdown",
   "id": "792e42ad-60d1-4451-b5db-d1aafbfccc5c",
   "metadata": {},
   "source": [
    "![](morfolojik_gradyan.png)"
   ]
  },
  {
   "cell_type": "code",
   "execution_count": 14,
   "id": "f555736e-0338-4357-a103-f43d1dca1703",
   "metadata": {},
   "outputs": [
    {
     "data": {
      "text/plain": [
       "-1"
      ]
     },
     "execution_count": 14,
     "metadata": {},
     "output_type": "execute_result"
    }
   ],
   "source": [
    "gradient_image = cv2.morphologyEx(src=img, op=cv2.MORPH_GRADIENT, kernel=kernel)\n",
    "\n",
    "cv2.imshow(winname='orjinal', mat=img)\n",
    "cv2.imshow(winname='Gradient Process', mat=gradient_image)\n",
    "cv2.waitKey(0)"
   ]
  },
  {
   "cell_type": "code",
   "execution_count": null,
   "id": "6410cf3d-fb9c-4fd3-9009-eb5bdf687f03",
   "metadata": {},
   "outputs": [],
   "source": []
  },
  {
   "cell_type": "markdown",
   "id": "33b43f2d-d00f-44b1-aa2f-28333b7b9ebe",
   "metadata": {},
   "source": [
    "## cv2.morphologyEx(src, op, kernel, dst, anchor, iterations, borderType, borderValue)\n",
    "### src: Giriş görüntüsü.\n",
    "### op: Uygulanacak morfolojik operasyonun türünü belirten bir sabit. Örneğin:\n",
    "#### 'cv2.MORPH_ERODE': Erozyon İşlemi\n",
    "#### 'cv2.MORPH_DILATE': Genişleme İşlemi\n",
    "#### 'cv2.MORPH_OPEN': Açma İşlemi\n",
    "#### 'cv2.MORPH_CLOSE': Kapatma İşlemi\n",
    "#### 'cv2.MORPH_GRADIENT': Gradyan İşlemi\n",
    "#### 'cv2.MORPH_TOPHAT': Top Hat İşlemi\n",
    "#### 'cv2.MORPH_BLACKHAT': Black Hat İşlemi\n",
    "### kernel: Morfolojik operasyon için kullanılacak yapı elemanı (numpy dizisi). Yapı elemanı, belirli bir şekle ve boyuta sahip bir matristir. Örneğin: 'np.ones((3, 3), np.uint8)' ifadesi 3x3'lük bir kare yapı elemanı oluşturur.\n",
    "### dst (İsteğe Bağlı): Sonuç görüntüsü. Bu parametre belirtilmezse, fonksiyon tarafından oluşturalan bir çıktı matrisi döndürülür.\n",
    "### anchor (İsteğe Bağlı): Yapı elemanının merkez konumu (varsayılan olarak (-1, -1) yani merkez).\n",
    "### iterations (İsteğe Bağlı): Operasyonun tekrar sayısı (varsayılan olarak 1).\n",
    "### borderType (İsteğe Bağlı): Kenarlık tipi (varsayılan olarak 'cv2.BORDER_CONSTANT').\n",
    "### borderValue (İsteğe Bağlı): Kenarlık değeri (varsayılan olarak 0)."
   ]
  }
 ],
 "metadata": {
  "kernelspec": {
   "display_name": "Python 3 (ipykernel)",
   "language": "python",
   "name": "python3"
  },
  "language_info": {
   "codemirror_mode": {
    "name": "ipython",
    "version": 3
   },
   "file_extension": ".py",
   "mimetype": "text/x-python",
   "name": "python",
   "nbconvert_exporter": "python",
   "pygments_lexer": "ipython3",
   "version": "3.9.12"
  }
 },
 "nbformat": 4,
 "nbformat_minor": 5
}
